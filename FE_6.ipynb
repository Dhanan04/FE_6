{
 "cells": [
  {
   "cell_type": "markdown",
   "id": "9707b324",
   "metadata": {},
   "source": [
    "#Ans1.) \n",
    "\n",
    "To calculate the Pearson correlation coefficient between the amount of time students spend studying for an exam and their final exam scores, first need to gather the data on these two variables for each student. Once having the data, we can use a statistical software or programming language like Python to compute the Pearson correlation coefficient. The Pearson correlation coefficient, denoted by r, ranges from -1 to 1, where:\n",
    "\n",
    "r=1: Perfect positive linear correlation\n",
    "\n",
    "r=−1: Perfect negative linear correlation\n",
    "\n",
    "r=0: No linear correlation\n",
    "\n",
    "Interpretation:\n",
    "\n",
    "If r is close to 1, it indicates a strong positive linear relationship between the two variables. This means that as the amount of time spent studying increases, the final exam scores also tend to increase.\n",
    "If r is close to -1, it indicates a strong negative linear relationship between the two variables. This means that as the amount of time spent studying increases, the final exam scores tend to decrease.\n",
    "If r is close to 0, it indicates no linear relationship between the two variables"
   ]
  },
  {
   "cell_type": "code",
   "execution_count": null,
   "id": "d004492e",
   "metadata": {},
   "outputs": [],
   "source": []
  },
  {
   "cell_type": "markdown",
   "id": "898f3126",
   "metadata": {},
   "source": [
    "#Ans2.) \n",
    "\n",
    "To calculate Spearman's rank correlation between the amount of sleep individuals get each night and their overall job satisfaction level, first need to collect the data on these two variables for each individual. Then, assign ranks to the values of each variable, calculate the difference in ranks for each pair of observations, square these differences, and sum them up. Finally, you can use the formula for Spearman's rank correlation coefficient to calculate the correlation. Spearman's rank correlation coefficient, denoted by ρ, also ranges from -1 to 1.\n",
    "\n",
    "Interpretation:\n",
    "\n",
    "If ρ is close to 1, it indicates a strong positive monotonic relationship between the two variables. This means that as the amount of sleep individuals get each night increases, their overall job satisfaction level tends to increase.\n",
    "If ρ is close to -1, it indicates a strong negative monotonic relationship between the two variables. This means that as the amount of sleep individuals get each night increases, their overall job satisfaction level tends to decrease.\n",
    "If ρ is close to 0, it indicates no monotonic relationship between the two variables."
   ]
  },
  {
   "cell_type": "code",
   "execution_count": null,
   "id": "37ae6ece",
   "metadata": {},
   "outputs": [],
   "source": []
  },
  {
   "cell_type": "markdown",
   "id": "e653b5ee",
   "metadata": {},
   "source": [
    "#Ans3.) \n",
    "\n",
    "To compare the Pearson correlation coefficient and the Spearman's rank correlation coefficient between the number of hours of exercise per week and body mass index (BMI), you would calculate both coefficients using the same dataset. The Pearson correlation coefficient measures the strength and direction of the linear relationship between two continuous variables, while Spearman's rank correlation coefficient assesses the monotonic relationship between the variables. If the relationship between the variables is linear, you would expect the Pearson correlation coefficient to be higher. However, if the relationship is nonlinear, Spearman's rank correlation coefficient might be more appropriate."
   ]
  },
  {
   "cell_type": "code",
   "execution_count": null,
   "id": "a8791486",
   "metadata": {},
   "outputs": [],
   "source": []
  },
  {
   "cell_type": "markdown",
   "id": "af01364a",
   "metadata": {},
   "source": [
    "#Ans4.) \n",
    "\n",
    "To calculate the Pearson correlation coefficient between the number of hours individuals spend watching television per day and their level of physical activity, you would first need to collect the data on these two variables for each participant. Then, you can use a statistical software or programming language like Python to compute the Pearson correlation coefficient. Similar to the interpretation in Q1, the Pearson correlation coefficient ranges from -1 to 1, where positive values indicate a positive relationship and negative values indicate a negative relationship."
   ]
  },
  {
   "cell_type": "code",
   "execution_count": null,
   "id": "66526c25",
   "metadata": {},
   "outputs": [],
   "source": []
  },
  {
   "cell_type": "markdown",
   "id": "76b76c17",
   "metadata": {},
   "source": [
    "#Ans5.)\n",
    "\n",
    "To analyze the relationship between age and preference for a particular brand of soft drink based on the survey results provided, we can calculate the correlation between age and soft drink preference. However, the given data is not in a suitable format for correlation calculation. We need to organize the data into a structured format before proceeding with the analysis\n",
    "\n",
    "| Age (Years) | Soft Drink Preference |\n",
    "|-------------|-----------------------|\n",
    "| 25          | Coke                  |\n",
    "| 42          | Pepsi                 |\n",
    "| 37          | Mountain Dew          |\n",
    "| 19          | Coke                  |\n",
    "| 31          | Pepsi                 |\n",
    "| 28          | Coke                  |"
   ]
  },
  {
   "cell_type": "code",
   "execution_count": null,
   "id": "e808b864",
   "metadata": {},
   "outputs": [],
   "source": []
  },
  {
   "cell_type": "code",
   "execution_count": 1,
   "id": "33fe688f",
   "metadata": {},
   "outputs": [
    {
     "name": "stdout",
     "output_type": "stream",
     "text": [
      "Pearson Correlation Coefficient: 0.96907180173373\n"
     ]
    }
   ],
   "source": [
    "#Ans6.) \n",
    "\n",
    "\n",
    "import numpy as np\n",
    "\n",
    "# Sample data for number of sales calls made per day (X) and number of sales made per week (Y)\n",
    "sales_calls_per_day = [10, 15, 12, 18, 20, 22, 17, 14, 16, 19, 21, 23, 25, 27, 24, 26, 29, 28, 30, 32, 35, 33, 34, 31, 36, 38, 37, 40, 39, 42]\n",
    "sales_per_week = [50, 60, 55, 65, 70, 75, 58, 62, 63, 68, 72, 78, 80, 85, 77, 82, 88, 90, 95, 92, 98, 100, 105, 110, 115, 120, 125, 130, 135, 140]\n",
    "\n",
    "# Calculate the Pearson correlation coefficient\n",
    "pearson_corr_coef = np.corrcoef(sales_calls_per_day, sales_per_week)[0, 1]\n",
    "\n",
    "print(\"Pearson Correlation Coefficient:\", pearson_corr_coef)\n"
   ]
  },
  {
   "cell_type": "code",
   "execution_count": null,
   "id": "33b2c174",
   "metadata": {},
   "outputs": [],
   "source": []
  }
 ],
 "metadata": {
  "kernelspec": {
   "display_name": "Python 3 (ipykernel)",
   "language": "python",
   "name": "python3"
  },
  "language_info": {
   "codemirror_mode": {
    "name": "ipython",
    "version": 3
   },
   "file_extension": ".py",
   "mimetype": "text/x-python",
   "name": "python",
   "nbconvert_exporter": "python",
   "pygments_lexer": "ipython3",
   "version": "3.11.4"
  }
 },
 "nbformat": 4,
 "nbformat_minor": 5
}
